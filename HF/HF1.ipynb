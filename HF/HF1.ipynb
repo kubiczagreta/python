{
 "cells": [
  {
   "cell_type": "markdown",
   "metadata": {},
   "source": [
    "# 1. házi feladat (HF1)\n",
    "Beadási határidő: szeptember 27. éjfél\n",
    "\n",
    "Beküldés: a Microsoft Teams felületén keresztül\n",
    "\n",
    "Adj szöveges választ is, ahol a feladatkitűzés ezt kéri!"
   ]
  },
  {
   "cell_type": "markdown",
   "metadata": {},
   "source": [
    "---"
   ]
  },
  {
   "cell_type": "markdown",
   "metadata": {},
   "source": [
    "## 1. feladat (HF1/1) (6 pont)"
   ]
  },
  {
   "cell_type": "markdown",
   "metadata": {},
   "source": [
    "Ebben a feladatban különböző országok, illetve régiók jövedelemegyenlőtlenségét és várható élettartamát fogjuk vizsgálni."
   ]
  },
  {
   "cell_type": "markdown",
   "metadata": {},
   "source": [
    "**a)** (1 pont)<br>\n",
    "Töltsd be egy pandas DataFrame-be az Adatok mappában található *countries.csv* nevű fájlt, és nevezd el az objektumot *countries*nak.<br>\n",
    "> Tipp: használj relatív elérési útvonalakat a tárgymappa mappaszerkezetét alapul véve!\n",
    "\n",
    "A Gapminder (http://www.gapminder.org/data/) adataiból keresd ki az *Income per person (GDP/capita, PPP$ inflation-adjusted)* és *Life expentancy (years)* nevű adatállományokat, és töltsd be őket egy *income* és *life_exp* nevű pandas DataFrame-be. Az adatokat közvetlenül a honlapról töltsd be, anélkül, hogy azt előbb lementenéd a saját gépedre!<br>\n",
    "> Tipp: használd a *pandas.read_excel()* függvényt!"
   ]
  },
  {
   "cell_type": "markdown",
   "metadata": {},
   "source": [
    "**b)** (1 pont)<br>\n",
    "Ábrázold hisztogramon az egy főre jutó jövedelem eloszlását egy adott évre (például 2007-re) vonatkozóan!<br>"
   ]
  },
  {
   "cell_type": "markdown",
   "metadata": {},
   "source": [
    "**c)** (1 pont)<br>\n",
    "Írj egy olyan függvényt, amely egy adott évre (ez legyen állítható bementi paraméter) összeilleszti (merge) a *countries*, *income* és *life_exp* adattáblákat!<br>\n",
    "\n",
    "> Tipp: használd a *pd.merge()* függvényt!"
   ]
  },
  {
   "cell_type": "markdown",
   "metadata": {},
   "source": [
    "**d)** (2 pont)<br>\n",
    "Az előző feladatrészben létrehozott adattábla segítségével készíts régiónként (kontinensenként) összevont (csoportosított) boxplotokat az egy főre jutó jövedelem eloszlására vonatkozóan 1950-re és 2010-re. A jövedelmet ábrázold logaritmikus skálán! Mi változott a 60 év alatt?<br>\n",
    "> Tipp: használd a *pd.boxplot* függvényt!"
   ]
  },
  {
   "cell_type": "markdown",
   "metadata": {},
   "source": [
    "**e)** (1 pont)<br>\n",
    "A c) feladatrészben létrehozott adattábla segítségével készíts egy szórásdiagramot ([scatter plot](https://pandas.pydata.org/pandas-docs/version/0.23/generated/pandas.DataFrame.plot.scatter.html)), melyen ábrázolod egy tetszőleges évben az országokban az egy főre jutó jövedelem és a várható élettartam viszonyát. Milyen következtetést tudsz levonni az ábra alapján?<br>\n",
    "> Tipp: válassz olyan évet, amelyben nincs sok hiányzó adat!"
   ]
  },
  {
   "cell_type": "markdown",
   "metadata": {},
   "source": [
    "---"
   ]
  },
  {
   "cell_type": "markdown",
   "metadata": {},
   "source": [
    "## 2. feladat (HF1/2) (6 pont)"
   ]
  },
  {
   "cell_type": "markdown",
   "metadata": {},
   "source": [
    "Ebben a feladatban a legnagyobb amerikai álláskereső portál adattudós állásait fogjuk vizsgálni."
   ]
  },
  {
   "cell_type": "markdown",
   "metadata": {},
   "source": [
    "**a)** (1 pont)<br>\n",
    "A tanult módon töltsd be az *urllib* és *BeautifulSoup* csomagok segítségével az *indeed.com* *data scientist* kulcsszóra kiadott találati oldalát, azaz ennek az URL-nek a tartalmát: http://www.indeed.com/jobs?q=data+scientist&l= . Írj egy függvényt, amelynek visszatérési értéke a kapott keresési találatok száma!\n",
    "<br>\n",
    "> Tipp: a *searchCount* azonosítójú HTML taget érdemes nézni!"
   ]
  },
  {
   "cell_type": "markdown",
   "metadata": {},
   "source": [
    "**b)** (3 pont)<br>\n",
    "Az első 100 találati oldal alapján derítsd ki, hogy melyek a leggyakoribb szavak, amik szerepelnek az adattudós állások hirdetéseiben! Készíts egy szófelhőt, amin a leggyakoribb szavakat vizualizálod az első 100 találati oldalon szereplő hirdetések alapján!<br>\n",
    "> Tipp: az egyes találati oldalak címei:\n",
    "https://www.indeed.com/jobs?q=data%20scientist&start=0, https://www.indeed.com/jobs?q=data%20scientist&start=10, https://www.indeed.com/jobs?q=data%20scientist&start=20 és így tovább 10-esével.\n",
    "\n",
    "> Tipp: itt rengeteg segítséget találsz azzal kapcsolatban, hogy hogyan kell szófelhőt készíteni: [wordcloud](https://www.datacamp.com/community/tutorials/wordcloud-python)\n",
    "\n",
    "> Tipp: mind a száz oldal letöltése hosszú ideig eltarthat, ezért először tesztelj kevesebb találati oldallal, és csak végül futtasd le a kódod az első száz oldalra."
   ]
  },
  {
   "cell_type": "markdown",
   "metadata": {},
   "source": [
    "**c)** (2 pont)<br>\n",
    "Az első 100 találati oldal alapján gyűjtsd össze a betöltendő állások helyszínére vonatkozó adatokat, és a leggyakrabban előforduló 10 város gyakoriságát ábrázold sávdiagramon! A \"United States\" és \"Remote\" helyszíneket szűrd ki a találatokból, csak városok legyenek!<br>\n",
    "> Tipp: a szükséges információt a *location* azonosítójú HTML tagben találod."
   ]
  },
  {
   "cell_type": "markdown",
   "metadata": {},
   "source": [
    "---"
   ]
  },
  {
   "cell_type": "markdown",
   "metadata": {},
   "source": [
    "## 3. feladat (HF1/3) (8 pont)"
   ]
  },
  {
   "cell_type": "markdown",
   "metadata": {},
   "source": [
    "Ebben a feladatban a legközelebbi szomszéd (_k_NN) algoritmust kell megvalósítanod. Programozz le egy egyszerű *k*NN osztályozó algoritmust, ne használj beépített függvényeket!"
   ]
  },
  {
   "cell_type": "markdown",
   "metadata": {},
   "source": [
    "**a)** (1 pont)<br>\n",
    "Ábrázold az Adatok mappában lévő *ring.csv* adatállományt. Ez egy két dimenzós adathalmaz, az utolsó oszlop a címkeváltozó értékét tartalmazza!<br>\n",
    "> Tipp: készíts scatter plot ábrát!"
   ]
  },
  {
   "cell_type": "markdown",
   "metadata": {},
   "source": [
    "**b)** (1 pont)<br>\n",
    "Írj egy saját Minkowski-távolság függvényt amelynek bemeneti paramétere két vektor és a Minkowski-távolság *p* kitevője!<br>"
   ]
  },
  {
   "cell_type": "markdown",
   "metadata": {},
   "source": [
    "**c)** (3 pont)<br>\n",
    "Írj egy  függvényt, ami numerikus attribútumokkal rendelkező rekordokra megadja, hogy a Minkowski-távolság szerinti legközelebbi _k_ szomszédjának többségében mi a címkeváltozó értéke! A függvényben állítható paraméter legyen a Minkowski-távolság *p* kitevője és <i>k</i>, a szomszédok száma!<br>"
   ]
  },
  {
   "cell_type": "markdown",
   "metadata": {},
   "source": [
    "**d)** (3 pont)<br>\n",
    "Próbáld ki az algoritmusodat az Adatok mappában lévő *ring.csv* adathalmazon! A rekordok *véletlenszerűen* választott kétharmadát tekintsd tanítóadatnak. Milyen arányban találja el az algoritmus a maradék 1/3-nyi adatrészen a helyes címkét? Próbáld ki az algoritmusodat több paraméterbeállítással is! Mit tapasztalsz?<br>\n",
    "> Tipp: használj relatív elérési útvonalakat a tárgymappa mappaszerkezetét alapul véve!\n",
    "\n",
    "> Tipp: az algoritmus futása hosszú ideig tarthat, ezért teszteléskor használj véletlenszerűen választott, kisebb részhalmazokat, és csak végül futtasd le a teszteket a teljes adathalmazon."
   ]
  },
  {
   "cell_type": "markdown",
   "metadata": {},
   "source": [
    "---"
   ]
  }
 ],
 "metadata": {
  "kernelspec": {
   "display_name": "Python 3",
   "language": "python",
   "name": "python3"
  },
  "language_info": {
   "codemirror_mode": {
    "name": "ipython",
    "version": 3
   },
   "file_extension": ".py",
   "mimetype": "text/x-python",
   "name": "python",
   "nbconvert_exporter": "python",
   "pygments_lexer": "ipython3",
   "version": "3.7.6"
  }
 },
 "nbformat": 4,
 "nbformat_minor": 2
}
