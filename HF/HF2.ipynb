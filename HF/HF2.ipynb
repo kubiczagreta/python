{
 "cells": [
  {
   "cell_type": "markdown",
   "metadata": {},
   "source": [
    "# 2. házi feladat (HF2)\n",
    "\n",
    "Beadási határidő: október 11. éjfél\n",
    "\n",
    "Beküldés: a Microsoft Teams felületén keresztül\n",
    "\n",
    "Adj szöveges választ is, ahol a feladatkitűzés ezt kéri!"
   ]
  },
  {
   "cell_type": "markdown",
   "metadata": {},
   "source": [
    "---"
   ]
  },
  {
   "cell_type": "markdown",
   "metadata": {},
   "source": [
    "## 1. feladat (HF2/1) (6 pont)"
   ]
  },
  {
   "cell_type": "markdown",
   "metadata": {},
   "source": [
    "Ebben a feladatban a tavalyi női foci vb adatait fogjuk vizsgálni az erre készült API és JSON fájlok segítségével. ⚽"
   ]
  },
  {
   "cell_type": "markdown",
   "metadata": {},
   "source": [
    "**a)** (1 pont)<br>\n",
    "Adatok betöltése\n",
    "* A tanult módon töltsd be az *urllib* és *json* csomagok használatával a világbajnokság API-ja (http://worldcup.sfg.io/) segítségével készült, a lejátszott meccsek adatait tartalmazó JSON fájlt az alábbi címről: http://worldcup.sfg.io/matches\n",
    "* A betöltés után kérdezd hány meccset játszottak a vb-n!"
   ]
  },
  {
   "cell_type": "markdown",
   "metadata": {},
   "source": [
    "**b)** (1 pont)<br>\n",
    "Írasd ki az összes meccs eredményét az alábbi formátumban:<br>\n",
    "ország1 - ország2 gól1:gól2 (például: England - Panama 6:1)"
   ]
  },
  {
   "cell_type": "markdown",
   "metadata": {},
   "source": [
    "**c)** (1 pont)<br>\n",
    "DataFrame készítése\n",
    "* Készíts az adatokból egy *pandas* *DataFrame*-et, melynek sorai az egyes meccsek, oszlopai pedig az alábbiak: *'fifa_id', 'location', 'datetime', 'home_team_country', 'away_team_country', 'winner', 'home_team_statistics', 'away_team_statistics'*. \n",
    "* A *datetime* oszlopot szedd szét két külön oszlopba, az egyik a meccs napját, a másik pedig a meccs kezdetét (óra, perc) tartalmazza.<br>\n",
    "> Tipp: kérd le a *pd.DatetimeIndex* függvénnyel a megfelelő attribútumot!"
   ]
  },
  {
   "cell_type": "markdown",
   "metadata": {},
   "source": [
    "**d)** (1 pont)<br>\n",
    "Melyik stadionban hány meccset játszottak? Ábrázold az eredményeket kördiagramon!"
   ]
  },
  {
   "cell_type": "markdown",
   "metadata": {},
   "source": [
    "**e)** (2 pont)<br>\n",
    "Meccsekre és csapatokra vonatkozóan ábrázold szórásdiagramon a kapura rúgások számát (*attempts*) a labdabirtoklás (*possession*) függvényében, és színezd a pontokat a passzolási hatékonyság (*pass_accuracy*) szerint.<br>\n",
    "> Tipp: használd a *seaborn* csomag [*scatterplot*](https://seaborn.pydata.org/generated/seaborn.scatterplot.html) függvényét!\n",
    "\n",
    "Értelmezd a látottakat, milyen következtetéseket tudsz levonni?"
   ]
  },
  {
   "cell_type": "markdown",
   "metadata": {},
   "source": [
    "---"
   ]
  },
  {
   "cell_type": "markdown",
   "metadata": {},
   "source": [
    "## 2. feladat (HF2/2) (3 pont)"
   ]
  },
  {
   "cell_type": "markdown",
   "metadata": {},
   "source": [
    "Javítsunk az órán látott modellen: döntési fa a banki adathalmazon."
   ]
  },
  {
   "cell_type": "markdown",
   "metadata": {},
   "source": [
    "**a)** (1 pont)<br>\n",
    "Az órán a *bank.csv* adathalmaz adatain osztályozási feladatot oldottunk meg kNN algoritmus segítségével. Az osztályozó nem teljesített jól. Ismételd meg az órai elemzést (Notebook02 alapján), de most használj döntési fát, a maximális mélységet állítsd 6-ra!<br>\n",
    "> Tipp: használd a *tree.DecisionTreeClassifier* osztályozót!\n",
    "\n",
    "Nézz utána, hogyan működik a használt döntési fa algoritmus!"
   ]
  },
  {
   "cell_type": "markdown",
   "metadata": {},
   "source": [
    "**b)** (1 pont)<br>\n",
    "Most próbáld ki más paraméterbeállításokkal tanítani a fát! Rajzoltasd ki az előző feladatrészben és a most tanított döntési fa ROC görbéjét ugyanazon az ábrán (más színnel), az ábrán az *y=x* egyenest is rajzold be! Hogyan teljesít a döntési fa?"
   ]
  },
  {
   "cell_type": "markdown",
   "metadata": {},
   "source": [
    "**c)** (1 pont)<br>\n",
    "A döntési fa kirajzolása és értelmezése\n",
    "* Az a) feladatrészben betanított döntési fát vizualizáld a *tree.export_graphviz* függvény segítségével. A fa megjelenítéséhez használd a *tree.plot_tree* függvényt!\n",
    "\n",
    "* Mi szerint vág először a fa? Mik a gyakori vágóattribútumok? Egy-két mondatban értelmezd a látottakat!"
   ]
  },
  {
   "cell_type": "markdown",
   "metadata": {},
   "source": [
    "---"
   ]
  },
  {
   "cell_type": "markdown",
   "metadata": {},
   "source": [
    "## 3. feladat (HF2/3) (6 pont)"
   ]
  },
  {
   "cell_type": "markdown",
   "metadata": {},
   "source": [
    "Borban az igazság? Ebben a feladatban különböző borok minőségét kell prediktálnunk! Meg tudja jósolni egy borász pusztán a bor kémiai tulajdonságai alapján, hogy a borát minőségi bornak fogja-e tartani a szakma? 🍷"
   ]
  },
  {
   "cell_type": "markdown",
   "metadata": {},
   "source": [
    "**a)** (1 pont)<br>\n",
    "A [UCI adattárházban](https://archive.ics.uci.edu/ml/datasets/Wine+Quality) található adatok alapján fogunk vizsgálódni. Ez több ezer észak-portugáliai bor 11 kémiai tulajdonságát (pl. cukortartalom, pH, alkoholtartalom, stb.) és egy a borokra vonatkozó 10-es skálán mért minőségi mutatót tartalmaz.\n",
    "\n",
    "* Töltsd be a **vörös**borok adatait egy pandas dataframe-be [az adattárházból](https://archive.ics.uci.edu/ml/machine-learning-databases/wine-quality/). Az adatot közvetlenül az internetről, a fájl saját gépre való letöltése nélkül töltsd be! A *quality* oszlop lesz a célváltozó (label), a többi oszlop pedig magyarázóváltozó (feature).\n",
    "* Bináris osztályozási feladatként tekintünk a továbbiakban a problémára, ezért a célváltozó értékét definiáld át: legyen az értéke 0, ha *quality $<$ 6.5* (rossz borok), és legyen az értéke 1, ha *quality $\\geq$ 6.5* (jó borok). Hozz létre külön *numpy array*-ket a célváltozók és a többi attribútum tárolására!"
   ]
  },
  {
   "cell_type": "markdown",
   "metadata": {},
   "source": [
    "**b)** (2 pont)<br>\n",
    "Osztályozás, keresztvalidálás\n",
    "* Használj *k*NN algoritmust az osztályozásra! Tízszeres keresztvalidációval állapítsd meg, hogy milyen *k* érték esetén lesz optimális az osztályozás F-mértéke! Vizsgáld a *k* értékét egy értelmes intervallumon!<br>\n",
    "> Tipp: használd a *model_selection.cross_val_score* függvényt *scoring = 'f1'* beállítással!\n",
    "\n",
    "* Ábrázold *k* függvényében a keresztvalidációs technikával kapott F-mértékek boxplotját!<br>\n",
    "> Tipp: használd a *seaborn* csomag *boxplot* függvényét!"
   ]
  },
  {
   "cell_type": "markdown",
   "metadata": {},
   "source": [
    "**c)** (2 pont)<br>\n",
    "Használj döntési fát az osztályozásra! Végezd el az előző feladatrészben leírt elemzést, most a vizsgált paraméternek a döntési fa maximális mélységét válaszd!"
   ]
  },
  {
   "cell_type": "markdown",
   "metadata": {},
   "source": [
    "**d)** (1 pont)<br>\n",
    "Mit tapasztaltál az elemzés során? Hogyan teljesítenek az osztályozók? Melyiket használnád?"
   ]
  },
  {
   "cell_type": "markdown",
   "metadata": {},
   "source": [
    "---"
   ]
  }
 ],
 "metadata": {
  "kernelspec": {
   "display_name": "Python 3",
   "language": "python",
   "name": "python3"
  },
  "language_info": {
   "codemirror_mode": {
    "name": "ipython",
    "version": 3
   },
   "file_extension": ".py",
   "mimetype": "text/x-python",
   "name": "python",
   "nbconvert_exporter": "python",
   "pygments_lexer": "ipython3",
   "version": "3.8.3"
  }
 },
 "nbformat": 4,
 "nbformat_minor": 2
}
