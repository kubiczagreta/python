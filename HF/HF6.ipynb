{
 "cells": [
  {
   "cell_type": "markdown",
   "metadata": {},
   "source": [
    "# 6. házi feladat (HF6)\n",
    "\n",
    "Beadási határidő: december 13. éjfél\n",
    "\n",
    "Beküldés: a Microsoft Teams felületén keresztül\n",
    "\n",
    "Adj szöveges választ is, ahol a feladatkitűzés ezt kéri!"
   ]
  },
  {
   "cell_type": "markdown",
   "metadata": {},
   "source": [
    "---"
   ]
  },
  {
   "cell_type": "markdown",
   "metadata": {},
   "source": [
    "## 1. feladat (HF6/1) (3 pont)"
   ]
  },
  {
   "cell_type": "markdown",
   "metadata": {},
   "source": [
    "Ebben a feladatban karakterfelismerési feladatot kell megoldanod neurális hálót tanítva Keras segítségével."
   ]
  },
  {
   "cell_type": "markdown",
   "metadata": {},
   "source": [
    "**a)** (1 pont)<br>\n",
    "Az órán bemutatott notebook alapján taníts karakterfelismerésre alkalmas neurális hálót az MNIST adathalmazon! Változtass a neurális hálózat architektúráján is!\n",
    "> Tipp: telepítsd a Kerast az Anaconda Navigator Environments fülén keresztül."
   ]
  },
  {
   "cell_type": "markdown",
   "metadata": {},
   "source": [
    "**b)** (2 pont)<br>\n",
    "Értékeld ki a modell teljesítményét a teszthalmazon, majd használd a modellt saját magad által kézzel írt számjegyek felismerésére! Ehhez szkennelj be vagy fényképezz be néhány általad írt karaktert, és alkalmazd arra a modellt. Ezzel kapcsolatban is találsz segítséget a fent említett notebookban! Mit tapasztalsz, felismeri a kézírásodat? Milyen különbségek vannak az írásod és az adathalmazban lévő karakterek között, amelyek \"félrevezethetik\" a hálót?"
   ]
  },
  {
   "cell_type": "markdown",
   "metadata": {},
   "source": [
    "---"
   ]
  },
  {
   "cell_type": "markdown",
   "metadata": {},
   "source": [
    "## 2. feladat (HF6/2) (7 pont)"
   ]
  },
  {
   "cell_type": "markdown",
   "metadata": {},
   "source": [
    "Ebben a feladatban vásárlói kosarak adatait fogjuk elemezni asszociációs szabályokat keresve."
   ]
  },
  {
   "cell_type": "markdown",
   "metadata": {},
   "source": [
    "**a)** (1 pont)<br>\n",
    "Az [UCI adattárház Online Retail Data Set](http://archive.ics.uci.edu/ml/datasets/online+retail) adatai alapján fogunk vizsgálódni.\n",
    "* Töltsd be az adatokat egy pandas dataframe-be. (Az adatot közvetlenül az internetről, a fájl saját gépre való letöltése nélkül töltsd be!)\n",
    "* Végezz el néhány adattisztítási lépést!\n",
    "    * A Description mező néhányszor white space karakterekkel kezdődik vagy végződik, ezeket a white space karaktereket távolítsd el!\n",
    "> Tipp: használd az *str.strip()* függvényt!\n",
    "    * Töröld azokat a sorokat, amelyeknél hiányzik a számla száma! Szintén szűrd ki azokat a sorokat, ahol a számla számában \"c\" karakter található."
   ]
  },
  {
   "cell_type": "markdown",
   "metadata": {},
   "source": [
    "**b)** (2 pont)<br>\n",
    "Hozz létre egy új adattáblát, mely a Franciaországból érkező rendelésekre vonatkozik, és a sorai az egyes számlaazonosítóknak felelnek meg, míg az oszlopai az egyes termékekhez tartoznak. Az *i*-edik sor *j*-edik eleme 1, ha az *i*-edik számla a *j*-edik terméket tartalmazza, és 0 különben. A \"POSTAGE\" terméket elhagyhatod, mert ez kimutat a vizsgálódási körünkből.\n",
    "> Tipp: használd a már Notebook01-ben is használt *groupby* függvényt mind az 'InvoiceNo', mind a 'Description' oszlop szerint, illetve használd az *unstack* függvényt!"
   ]
  },
  {
   "cell_type": "markdown",
   "metadata": {},
   "source": [
    "**c)** (1 pont)<br>\n",
    "Asszociációs szabályokat fogunk keresni, ehhez telepítsd az mlxtend csomagot!\n",
    "> Tipp: Anaconda Prompt: !pip install mlxtend\n",
    "\n",
    "* Az mlxtend.frequent_patterns *apriori* függvényével keresd meg a gyakori elemhalmazokat úgy, hogy a minimális támogatottságot 0.07-re állítod!\n",
    "* Ezután a gyakori elemhalmazokból generálj asszociációs szabályokat az mlxtend.frequent_patterns *association_rules* függvényével, úgy hogy olyan asszociációs szabályokat találj, amire a lift érték legalább 1!\n",
    "> Tipp: a függvény attribútumában állítsd a metrikát liftre, a küszöböt pedig 1-re!"
   ]
  },
  {
   "cell_type": "markdown",
   "metadata": {},
   "source": [
    "**d)** (1 pont)<br>\n",
    "A szabályokat egy dataframe-ben kapod vissza, most szűrd ezt az adattáblát, hogy csak azokat a szabályokat mutassa, melyek lift mutatója legalább 6 és megbízhatósága legalább 0.8."
   ]
  },
  {
   "cell_type": "markdown",
   "metadata": {},
   "source": [
    "**e)** (2 pont)<br>\n",
    "Nézd meg az adatokat Franciaország mellett egy másik országra is. Milyen különbségeket tapasztalsz? Fogalmazz meg egy-két ajánlást az áruház vezetőjének, amit az adatokból ki tudtál szűrni! "
   ]
  },
  {
   "cell_type": "markdown",
   "metadata": {},
   "source": [
    "---"
   ]
  },
  {
   "cell_type": "markdown",
   "metadata": {},
   "source": [
    "## 3. feladat (HF6/3) (5 pont)"
   ]
  },
  {
   "cell_type": "markdown",
   "metadata": {},
   "source": [
    "Ebben a feladatban egy személyiségteszt kérdéseire adott válaszokat fogjuk vizsgálni, és főkomponensanalízist (PCA) fogunk végrehajtani rajta."
   ]
  },
  {
   "cell_type": "markdown",
   "metadata": {},
   "source": [
    "**a)** (1 pont)<br>\n",
    "Töltsd be az Adatok mappában található *PersonalityALL* nevű fájlt. Ez az adat egy 100 kérdéses személyiségtesztre adott válaszokat tartalmazza különböző kitöltőktől. A projektről a [MyPersonality honlapon](https://sites.google.com/michalkosinski.com/mypersonality) találsz bővebb információt, illetve az Adatok mappában megtalálod a kérdőív dokumentációját is, az eredmények értelmezésekor erre szükséged lesz! Ha megnéznéd vagy kitöltenéd a tesztet, akkor azt itt tudod megtenni: [discovermyprofile.com](https://discovermyprofile.com/tests)."
   ]
  },
  {
   "cell_type": "markdown",
   "metadata": {},
   "source": [
    "**b)** (1 pont)<br>\n",
    "Hány főkomponens tudja megmagyarázni a kérdésekre adott válaszokkal jellemzett rekordokban lévő variancia 50%-át?"
   ]
  },
  {
   "cell_type": "markdown",
   "metadata": {},
   "source": [
    "**c)** (1 pont)<br>\n",
    "Ábrázold a rekordokat az első két főkomponens által kifeszített síkon! Színezd a pontokat a nemnek megfelelően! Ez alapján elkülöníti a nemeket az első két főkomponens? Válaszod indokold!"
   ]
  },
  {
   "cell_type": "markdown",
   "metadata": {},
   "source": [
    "**d)** (2 pont)<br>\n",
    "Nézd meg, hogy az első néhány főkomponensben melyik kérdésekre adott válaszok szerepelnek nagy súllyal! Készíts jól értelmezhető ábrákat! Fel tudsz fedezni bármilyen kapcsolatot az egyes főkomponensek és a [Big five személyiségmodell](https://hu.wikipedia.org/wiki/Big_five_szem%C3%A9lyis%C3%A9gmodell)  (másként OCEAN-modell: Openness, Conscientiousness, Extraversion, Agreeableness, Neuroticis) öt személyiségvonása között? "
   ]
  },
  {
   "cell_type": "markdown",
   "metadata": {},
   "source": [
    "---"
   ]
  }
 ],
 "metadata": {
  "kernelspec": {
   "display_name": "Python 3",
   "language": "python",
   "name": "python3"
  },
  "language_info": {
   "codemirror_mode": {
    "name": "ipython",
    "version": 3
   },
   "file_extension": ".py",
   "mimetype": "text/x-python",
   "name": "python",
   "nbconvert_exporter": "python",
   "pygments_lexer": "ipython3",
   "version": "3.7.6"
  }
 },
 "nbformat": 4,
 "nbformat_minor": 2
}
