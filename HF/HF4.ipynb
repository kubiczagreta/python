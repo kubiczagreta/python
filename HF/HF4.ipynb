{
 "cells": [
  {
   "cell_type": "markdown",
   "metadata": {},
   "source": [
    "# 4. házi feladat (HF4)\n",
    "\n",
    "Beadási határidő: november 8. éjfél\n",
    "\n",
    "Beküldés: a Microsoft Teams felületén keresztül\n",
    "\n",
    "Adj szöveges választ is, ahol a feladatkitűzés ezt kéri!"
   ]
  },
  {
   "cell_type": "markdown",
   "metadata": {},
   "source": [
    "---"
   ]
  },
  {
   "cell_type": "markdown",
   "metadata": {},
   "source": [
    "## 1. feladat (HF4/1) (5 pont)"
   ]
  },
  {
   "cell_type": "markdown",
   "metadata": {},
   "source": [
    "Ebben a feladatban a logisztikus regresszió algoritmusát kell megvalósítanod spam-szűrés céljából. A UCI adattárház [*Spambase* adatain](https://archive.ics.uci.edu/ml/datasets/Spambase) fogunk vizsgálódni. Az adatokat a saját gépedre való letöltés nélkül igyekezz betölteni!\n",
    "\n",
    "**a)** (4 pont)<br>\n",
    "Programozz le egy egyszerű logisztikus regressziós osztályozó algoritmust (tehát ne beépített algoritmust használj)! Írj kódokat, amik a tanítóhalmazon kiszámítják a paramétereket ($\\theta$ vagy $w$ vektor), majd használd ezt a kódot a teszthalmazon predikcióra!<br>\n",
    ">Tipp: a Notebook04-ben számos hasznos segítséget találsz, mind a lineáris regresszió, mind a neurális háló implementálásánál!\n",
    "\n",
    "**b)** (1 pont)<br>\n",
    "Használd ugyanennek a problémának a megoldására az *sklearn* könyvtár megfelelő függvényét is. Hogy viszonyul egymáshoz az általad implementált és a könyvtárban lévő megoldás pontosság (accuracy) és futásidő tekintetében? Adj írásos választ is!<br> (Ne aggódj, a te megoldásod rosszabb lesz, nem cél az *sklearn* könyvtárban implementáltnál jobbat írni.)"
   ]
  },
  {
   "cell_type": "markdown",
   "metadata": {},
   "source": [
    "---"
   ]
  },
  {
   "cell_type": "markdown",
   "metadata": {},
   "source": [
    "## 2. feladat (HF4/2) (6 pont)"
   ]
  },
  {
   "cell_type": "markdown",
   "metadata": {},
   "source": [
    "Ebben a feladatban polinomiális regresszióval fogunk foglalkozni és a polinom fokának az eredményre gyakorolt hatását vizsgáljuk."
   ]
  },
  {
   "cell_type": "markdown",
   "metadata": {},
   "source": [
    "**a)** (1 pont)<br>\n",
    "Konstruálj adatot ismert háttéreloszlásból, azaz hozz létre mesterséges kétdimenziós adatot! Szimulálj legalább 1000 adatpontot!\n",
    "* Használd a lent megadott adatgeneráló függvényt a [-1,8] intervallumon! (Módosíthatod a függvényt úgy, hogy neked jobban tetsző adatokat hozzon létre, a lényeg, hogy a generált adat egy \"zajos polinom\" legyen egy értelmes intervallumon!)\n",
    "* Az adatok (véletlenszerűen választott) 2/3-át tekintsd tanítóadatnak, a többit tesztadatnak!\n",
    "> Tipp: használd a  *train_test_split* függvényt!\n",
    "* Ábrázold az adatot pontfelhőként! Ábrázold külön színnel a tanító- és tesztadatokat."
   ]
  },
  {
   "cell_type": "code",
   "execution_count": 1,
   "metadata": {},
   "outputs": [],
   "source": [
    "import numpy as np\n",
    "\n",
    "def curve_generator( x , sigma ):\n",
    "    y = np.random.normal( x ** 3 - 11 * x ** 2 + 27 * x + 2 , sigma )\n",
    "    return y"
   ]
  },
  {
   "cell_type": "markdown",
   "metadata": {},
   "source": [
    "**b)** (3 pont)<br>\n",
    "Tanítsunk egyszerű polinomiális regressziót az adatra (célváltozó: $y$, magyarázó változó: $x$).\n",
    "> Tipp: használd az *np.polyfit* függvényt!\n",
    "\n",
    "* Ábrázold egy ábrán (külön színnel) a tanítóhalmazbeli és a teszthalmazbeli hibát (RMSE-értéket) a regressziós polinom fokának függvényében (változtasd a polinom fokát 0 és 20 között)!\n",
    "* Készíts ábrákat 3x7-es rácsban, amelyeken látszik hogy az egyes polinomok hogyan simulnak az adatra! Az egyes részábrák címe mutassa melyik fokú polinomról van szó, az ábrák tengelyeit pedig rejtsd el!\n",
    "> Tipp: használd a *plt.subplots* függvényt!\n",
    "\n",
    "* Mit tapasztalsz?"
   ]
  },
  {
   "cell_type": "markdown",
   "metadata": {},
   "source": [
    "**c)** (2 pont)<br>\n",
    "Hogy változik a modell teljesítménye, ha változtatjuk a tanítóhalmaz méretét? \n",
    "* A regressziós polinom fokának rögzítése mellett változtasd a tanítóhalmaz méretét az eredeti tanítóhalmaz méretének megszorításával.\n",
    "* A tanítóhalmaz méretének függvényében ábrázold egy ábrán a tanítóhalmazbeli és a teszthalmazbeli hibát (RMSE-értéket).\n",
    "* Jelöld az ábrán a célváltozó generálásának véletlenségéből adódó belső (irreducibilis) hibát is, ez itt a *sigma* szórás értékének felel meg, vagyis konstans.\n",
    "* Végezd el ezt az elemzést úgy, hogy a polinom fokát 1-re, 3-ra, 8-ra, majd 20-ra állítod.  \n",
    "* Mit tapasztalsz? Értelmezd az ábrákat!"
   ]
  },
  {
   "cell_type": "markdown",
   "metadata": {},
   "source": [
    "---"
   ]
  },
  {
   "cell_type": "markdown",
   "metadata": {},
   "source": [
    "## 3. feladat (HF4/3) (9 pont)"
   ]
  },
  {
   "cell_type": "markdown",
   "metadata": {},
   "source": [
    "Még mindig borban az igazság! 🍷 <br> Ebben a feladatban (a HF2/3 feladathoz hasonlóan) különböző borok minőségét kell prediktálnunk. Haladó osztályozási algoritmusok segítségével vizsgáljuk, hogy meg tudjuk-e jósolni pusztán a bor kémiai tulajdonságai alapján, hogy minőségi bornak fogja-e tartani a szakma."
   ]
  },
  {
   "cell_type": "markdown",
   "metadata": {},
   "source": [
    "**a)** (1 pont)<br>\n",
    "Ismételd meg a HF2/3/a feladatot: A [UCI adattárházban](https://archive.ics.uci.edu/ml/datasets/Wine+Quality) található adatok alapján fogunk vizsgálódni. Ez több ezer észak-portugáliai bor 11 kémiai tulajdonságát (pl. cukortartalom, pH, alkoholtartalom, stb.) és egy a borokra vonatkozó 10-es skálán mért minőségi mutatót tartalmaz.\n",
    "\n",
    "* Töltsd be a **vörös**borok adatait egy pandas dataframe-be [az adattárházból](https://archive.ics.uci.edu/ml/machine-learning-databases/wine-quality/). (Az adatot közvetlenül az internetről, a fájl saját gépre való letöltése nélkül töltsd be!)\n",
    "* A *quality* oszlop lesz a célváltozó, a többi pedig a magyarázóváltozó (feature). Bináris osztályozási feladatként tekintünk a továbbiakban a problémára, ezért a célváltozó értékét definiáld át: legyen az értéke 0, ha *quality $<$ 7* (rossz borok), és legyen az értéke 1, ha *quality $\\geq$ 7* (jó borok).\n",
    "* Hozz létre külön numpy array-ket a célváltozó és az attribútumok tárolására!"
   ]
  },
  {
   "cell_type": "markdown",
   "metadata": {
    "collapsed": true
   },
   "source": [
    "**b)** (4 pont)<br>\n",
    "Véletlen erdő\n",
    "* Használj véletlen erdő algoritmust (20 fával) az osztályozásra! \n",
    "* Kérd le az egyes rekordokhoz tartozó valószínűségi pontértékeket! A bináris döntést ez alapján a pontérték alapján fogjuk meghozni, alapesetben 0.5 fölött tekintjük 1-es osztályba tartozónak, most viszont változtatni fogjuk a küszöbértéket.<br>\n",
    "> Tipp: használd a *predict_proba* függvényt! \n",
    "\n",
    "* Írj egy *predict_with_threshold* nevű függvényt, aminek bemenő paraméterei a betanított osztályozó, az adatmátrix, amire a jóslást elvégezzük és a küszöbindex (a küszöbindex az a pontérték, ami felett 1-est döntünk), eredménye pedig a rekordokra vonatkozó bináris döntés.\n",
    "\n",
    "* Tízszeres keresztvalidációval állapítsd meg, hogy milyen küszöbérték esetén lesz optimális az osztályozás F-mértéke! (Vizsgáld a küszöbértéket a 0.1, 0.2, $\\dots$ 0.9 halmazon!)<br>\n",
    "> Tipp: használd a *model_selection.cross_val_score* függvényt *scoring=modified_f1(threshold)* beállítással, ahol a *threshold* végigmegy a küszöbérték lehetséges értékein!\n",
    "\n",
    "* Ábrázold a *threshold* függvényében a keresztvalidációs technikával kijövő F-mértékek boxplotját! Értelmezd a kapott ábrát, milyen érték esetén kapjuk a legjobb predikciót? Magyarázd el, hogy miért kaphattuk ezt az eredményt annak tükrében, hogy kiegyensúlyozatlan osztályeloszlású osztályozási feladaot oldottunk meg.<br>\n",
    "> Tipp: használd a *seaborn* csomag boxplot függvényét!\n",
    "\n",
    "Segítségképpen megadok egy *modified_f1* függvényt, aminek bemenete egy küszöbérték, eredménye pedig egy olyan függvény, ami megfelelő arra, hogy a *cross_val_score* *scoring* argumentuma legyen. Ez a függvény használja az általad megfelelően definiált *predict_with_threshold* nevű függvényt!"
   ]
  },
  {
   "cell_type": "code",
   "execution_count": 2,
   "metadata": {
    "collapsed": true
   },
   "outputs": [],
   "source": [
    "def modified_f1( threshold ):\n",
    "    \n",
    "    def f1_threshold( clf , X , y ):\n",
    "        y_pred = predict_with_threshold( clf , X , threshold )\n",
    "        return sklearn.metrics.f1_score( y , y_pred )\n",
    "        \n",
    "    return f1_threshold"
   ]
  },
  {
   "cell_type": "markdown",
   "metadata": {},
   "source": [
    "**c)** (1 pont)<br>\n",
    "A véletlen erdő segítségével az attribútumokhoz rendelhetünk egy fontossági értéket. \n",
    "* Ábrázold a véletlen erdő által adott, az egyes attribútumokhoz tartozó relatív fontossági értékeket oszlopdiagramon.<br>\n",
    "> Tipp: használd a *feature\\_importances\\_* opciót!\n",
    "\n",
    "* Mi a két legfontosabb változó?"
   ]
  },
  {
   "cell_type": "markdown",
   "metadata": {},
   "source": [
    "**d)** (3 pont)<br>\n",
    "Az osztályozók által adott döntési határt érdekes ábrázolni, hogy jobban megértsük az osztályozó döntését, ugyanakkor ezt természetesen csak kis dimenzió esetén tudjuk vizuálisan értelmezni. Éppen ezért a következőkben szorítsd meg az attribútumteret az előző feladatrész alapján legfontosabbnak adódó két attribútumra! \n",
    "* Az alábbi osztályozók döntési határát ezután ábrázold a lent megadott ábrázoló függvény segítségével: \n",
    "    * döntési fa az alapértelmezett beállításokkal\n",
    "    * véletlen erdő (15 döntési fával)\n",
    "    * SVM (C = 100, gamma = 1.0 beállításokkal)\n",
    "    * SVM (C = 1.0, gamma = 1.0, class_weight=None beállításokkal)\n",
    "    * SVM (C = 1.0, gamma = 1.0, class_weight='balanced' beállításokkal) (A 'balanced' beállítás az osztály gyakoriságával fordítottan arányos módon rendel súlyt az egyes osztályba tartozó rekordokhoz.)\n",
    "> Tipp: a szupport vektor géphez használd az *sklearn.svm.SVC* függvényt!\n",
    "\n",
    "* Az *svm.SVC* milyen kernelt használ alapértelmezetten? Nézz utána és írd le, hogy ilyen esetben mi a C és a gamma szerepe?\n",
    "* Értelmezd az ábrákat! Melyik esetben lehet túltanulásról beszélni, miért? Melyik döntési határ a legkomplexebb?\n",
    "* Mi a szerepe a döntési határt illetően a class_weight két kipróbált beállításának? Melyik esetben lehet jobb a recall, a precision és az accurary érték? Hogy lehetne javítani az SVM teljesítményét?\n",
    "\n",
    "A következőkben megadott döntési határt kirajzoló függvényt bátran módosítsd, javítsd, hogy jobban átlátható ábrákat kapj!"
   ]
  },
  {
   "cell_type": "code",
   "execution_count": 3,
   "metadata": {
    "collapsed": true
   },
   "outputs": [],
   "source": [
    "from matplotlib.colors import ListedColormap\n",
    "cmap_light = ListedColormap( [ '#FFAAAA' , '#AAFFAA' , '#AAAAFF' ] )\n",
    "cmap_bold = ListedColormap( [ '#FF0000' , '#00FF00' , '#0000FF' ] )\n",
    "\n",
    "def points_plot( X , y , clf , colorscale = cmap_light , cdiscrete=cmap_bold ):\n",
    "    \n",
    "    if X.shape[ 1 ] != 2:\n",
    "        raise ValueError( \"X should have two features!\" )\n",
    "    \n",
    "    Xtr , Xte , ytr , yte = train_test_split( X , y , train_size = 0.6 )\n",
    "    clf = clf.fit( Xtr , ytr )\n",
    "    h = 0.01\n",
    "    x_min , x_max = X[ : , 0 ].min() - 0.5 , X[ : , 0 ].max() + 0.5\n",
    "    y_min , y_max = X[ : , 1 ].min() - 0.5 , X[ : , 1 ].max() + 0.5\n",
    "    xx , yy = np.meshgrid( np.linspace( x_min , x_max , 50 ) , np.linspace( y_min , y_max , 50 ) )\n",
    "    \n",
    "    plt.figure()\n",
    "    Z = clf.predict( np.c_[ xx.ravel() , yy.ravel() ] )\n",
    "    Z = Z.reshape( xx.shape )\n",
    "    plt.pcolormesh( xx , yy , Z , cmap = cmap_light , alpha = 0.2 )\n",
    "    # train points\n",
    "    plt.scatter( Xtr[ : , 0 ] , Xtr[ : , 1 ] , c = ytr - 1 , cmap = cdiscrete , s = 50 , alpha = 0.2 , edgecolor = \"k\" )\n",
    "    # test points\n",
    "    plt.scatter( Xte[ : , 0 ] , Xte[ : , 1 ] , c = yte - 1 , cmap = cdiscrete , alpha = 0.5 , marker = \"s\" , s = 35 )\n",
    "    plt.xlim( xx.min() , xx.max() )\n",
    "    plt.ylim( yy.min() , yy.max() )\n",
    "    # titles, labels\n",
    "    plt.title( str( clf )[ 0 : str( clf ).find( \"(\" ) ] )\n",
    "    plt.xlabel( \"Feature 1\" )\n",
    "    plt.ylabel( \"Feature 2\" )"
   ]
  },
  {
   "cell_type": "markdown",
   "metadata": {},
   "source": [
    "---"
   ]
  }
 ],
 "metadata": {
  "kernelspec": {
   "display_name": "Python 3",
   "language": "python",
   "name": "python3"
  },
  "language_info": {
   "codemirror_mode": {
    "name": "ipython",
    "version": 3
   },
   "file_extension": ".py",
   "mimetype": "text/x-python",
   "name": "python",
   "nbconvert_exporter": "python",
   "pygments_lexer": "ipython3",
   "version": "3.8.3"
  }
 },
 "nbformat": 4,
 "nbformat_minor": 2
}
